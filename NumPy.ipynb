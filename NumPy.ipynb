{
  "nbformat": 4,
  "nbformat_minor": 0,
  "metadata": {
    "colab": {
      "provenance": [],
      "authorship_tag": "ABX9TyNaDjVx+lC8kuU+OEM6Yl+f",
      "include_colab_link": true
    },
    "kernelspec": {
      "name": "python3",
      "display_name": "Python 3"
    },
    "language_info": {
      "name": "python"
    }
  },
  "cells": [
    {
      "cell_type": "markdown",
      "metadata": {
        "id": "view-in-github",
        "colab_type": "text"
      },
      "source": [
        "<a href=\"https://colab.research.google.com/github/WONI2/python_study/blob/PYTHON_BASIC/NumPy.ipynb\" target=\"_parent\"><img src=\"https://colab.research.google.com/assets/colab-badge.svg\" alt=\"Open In Colab\"/></a>"
      ]
    },
    {
      "cell_type": "code",
      "execution_count": null,
      "metadata": {
        "id": "eflGHEtmxhhE"
      },
      "outputs": [],
      "source": [
        "import numpy as np\n",
        "import pandas as pd"
      ]
    },
    {
      "cell_type": "code",
      "source": [
        "np_vector = np.array([1,2,3,4], dtype = np.int)\n",
        "print(np_vector)\n",
        "\n",
        "[np_vector.shape, np_vector.size, np_vector.dtype, np_vector.ndim]"
      ],
      "metadata": {
        "colab": {
          "base_uri": "https://localhost:8080/"
        },
        "id": "3tkkYvwtx7ME",
        "outputId": "abcbeb9b-8200-4b2c-d33b-01e015a9e253"
      },
      "execution_count": null,
      "outputs": [
        {
          "output_type": "stream",
          "name": "stdout",
          "text": [
            "[1 2 3 4]\n"
          ]
        },
        {
          "output_type": "stream",
          "name": "stderr",
          "text": [
            "<ipython-input-7-837eeb30d98c>:1: DeprecationWarning: `np.int` is a deprecated alias for the builtin `int`. To silence this warning, use `int` by itself. Doing this will not modify any behavior and is safe. When replacing `np.int`, you may wish to use e.g. `np.int64` or `np.int32` to specify the precision. If you wish to review your current use, check the release note link for additional information.\n",
            "Deprecated in NumPy 1.20; for more details and guidance: https://numpy.org/devdocs/release/1.20.0-notes.html#deprecations\n",
            "  np_vector = np.array([1,2,3,4], dtype = np.int)\n"
          ]
        },
        {
          "output_type": "execute_result",
          "data": {
            "text/plain": [
              "[(4,), 4, dtype('int64'), 1]"
            ]
          },
          "metadata": {},
          "execution_count": 7
        }
      ]
    },
    {
      "cell_type": "code",
      "source": [
        "np_matrix = np.array([[1,2,3,4],\n",
        "                     [5,6,7,8],\n",
        "                     [9,10,11,12]], dtype= np.int)\n",
        "print(np_matrix)                     "
      ],
      "metadata": {
        "colab": {
          "base_uri": "https://localhost:8080/"
        },
        "id": "QtXWvsjpygYq",
        "outputId": "4e61b15f-07ef-4976-a42f-d2f5cc57cfc8"
      },
      "execution_count": null,
      "outputs": [
        {
          "output_type": "stream",
          "name": "stdout",
          "text": [
            "[[ 1  2  3  4]\n",
            " [ 5  6  7  8]\n",
            " [ 9 10 11 12]]\n"
          ]
        },
        {
          "output_type": "stream",
          "name": "stderr",
          "text": [
            "<ipython-input-14-d4d3eb2a585b>:3: DeprecationWarning: `np.int` is a deprecated alias for the builtin `int`. To silence this warning, use `int` by itself. Doing this will not modify any behavior and is safe. When replacing `np.int`, you may wish to use e.g. `np.int64` or `np.int32` to specify the precision. If you wish to review your current use, check the release note link for additional information.\n",
            "Deprecated in NumPy 1.20; for more details and guidance: https://numpy.org/devdocs/release/1.20.0-notes.html#deprecations\n",
            "  [9,10,11,12]], dtype= np.int)\n"
          ]
        }
      ]
    },
    {
      "cell_type": "code",
      "source": [
        "np.arange(0,9)"
      ],
      "metadata": {
        "colab": {
          "base_uri": "https://localhost:8080/"
        },
        "id": "VkZmMIOd0BNE",
        "outputId": "ee607318-c7ae-4f02-f4b2-c9ba5f80c515"
      },
      "execution_count": null,
      "outputs": [
        {
          "output_type": "execute_result",
          "data": {
            "text/plain": [
              "array([0, 1, 2, 3, 4, 5, 6, 7, 8])"
            ]
          },
          "metadata": {},
          "execution_count": 10
        }
      ]
    },
    {
      "cell_type": "code",
      "source": [
        "np.arange(0,9,2)"
      ],
      "metadata": {
        "colab": {
          "base_uri": "https://localhost:8080/"
        },
        "id": "hZ9_dzLT00hh",
        "outputId": "9612f2d6-3958-42b8-968d-bb907d3bda9a"
      },
      "execution_count": null,
      "outputs": [
        {
          "output_type": "execute_result",
          "data": {
            "text/plain": [
              "array([0, 2, 4, 6, 8])"
            ]
          },
          "metadata": {},
          "execution_count": 11
        }
      ]
    },
    {
      "cell_type": "code",
      "source": [
        "np.diag([1,2,3,4])"
      ],
      "metadata": {
        "colab": {
          "base_uri": "https://localhost:8080/"
        },
        "id": "87N247lk1C1U",
        "outputId": "60b5df7e-411e-44e2-ae5b-b1979b418bdc"
      },
      "execution_count": null,
      "outputs": [
        {
          "output_type": "execute_result",
          "data": {
            "text/plain": [
              "array([[1, 0, 0, 0],\n",
              "       [0, 2, 0, 0],\n",
              "       [0, 0, 3, 0],\n",
              "       [0, 0, 0, 4]])"
            ]
          },
          "metadata": {},
          "execution_count": 7
        }
      ]
    },
    {
      "cell_type": "code",
      "source": [
        "np.eye(N=3,M=5,k=0)"
      ],
      "metadata": {
        "colab": {
          "base_uri": "https://localhost:8080/"
        },
        "id": "2uAUL5bV3FPd",
        "outputId": "fbee3742-fbde-44b7-8bc0-88f5881069dc"
      },
      "execution_count": null,
      "outputs": [
        {
          "output_type": "execute_result",
          "data": {
            "text/plain": [
              "array([[1., 0., 0., 0., 0.],\n",
              "       [0., 1., 0., 0., 0.],\n",
              "       [0., 0., 1., 0., 0.]])"
            ]
          },
          "metadata": {},
          "execution_count": 6
        }
      ]
    },
    {
      "cell_type": "code",
      "source": [
        "np.ones_like(np_matrix)"
      ],
      "metadata": {
        "colab": {
          "base_uri": "https://localhost:8080/"
        },
        "id": "FLuvtSurGSBa",
        "outputId": "056bc159-b8f2-41d6-d34f-0962bf089b1a"
      },
      "execution_count": null,
      "outputs": [
        {
          "output_type": "execute_result",
          "data": {
            "text/plain": [
              "array([[1, 1, 1, 1],\n",
              "       [1, 1, 1, 1],\n",
              "       [1, 1, 1, 1]])"
            ]
          },
          "metadata": {},
          "execution_count": 10
        }
      ]
    },
    {
      "cell_type": "code",
      "source": [
        "np_matrix[1,2] = 100"
      ],
      "metadata": {
        "id": "NqdEwxXMHh_F"
      },
      "execution_count": null,
      "outputs": []
    },
    {
      "cell_type": "code",
      "source": [
        "np_matrix"
      ],
      "metadata": {
        "colab": {
          "base_uri": "https://localhost:8080/"
        },
        "id": "tHaWGkTcNxVT",
        "outputId": "78a4b356-1484-40fb-ea81-238bba5e15cf"
      },
      "execution_count": null,
      "outputs": [
        {
          "output_type": "execute_result",
          "data": {
            "text/plain": [
              "array([[  1,   2,   3,   4],\n",
              "       [  5,   6, 100,   8],\n",
              "       [  9,  10,  11,  12]])"
            ]
          },
          "metadata": {},
          "execution_count": 16
        }
      ]
    },
    {
      "cell_type": "code",
      "source": [
        "Z=np.arange(1,46).reshape(5,9)\n",
        "Z"
      ],
      "metadata": {
        "colab": {
          "base_uri": "https://localhost:8080/"
        },
        "id": "xTCM-etFOCMQ",
        "outputId": "40abb2a3-b194-48f8-8a89-e16098c21d76"
      },
      "execution_count": null,
      "outputs": [
        {
          "output_type": "execute_result",
          "data": {
            "text/plain": [
              "array([[ 1,  2,  3,  4,  5,  6,  7,  8,  9],\n",
              "       [10, 11, 12, 13, 14, 15, 16, 17, 18],\n",
              "       [19, 20, 21, 22, 23, 24, 25, 26, 27],\n",
              "       [28, 29, 30, 31, 32, 33, 34, 35, 36],\n",
              "       [37, 38, 39, 40, 41, 42, 43, 44, 45]])"
            ]
          },
          "metadata": {},
          "execution_count": 17
        }
      ]
    },
    {
      "cell_type": "code",
      "source": [
        "Y=Z.copy()\n",
        "Y"
      ],
      "metadata": {
        "colab": {
          "base_uri": "https://localhost:8080/"
        },
        "id": "YHLfczh-OwMn",
        "outputId": "e11f6fdc-8b7a-46ea-f38c-05b641b704d3"
      },
      "execution_count": null,
      "outputs": [
        {
          "output_type": "execute_result",
          "data": {
            "text/plain": [
              "array([[ 1,  2,  3,  4,  5,  6,  7,  8,  9],\n",
              "       [10, 11, 12, 13, 14, 15, 16, 17, 18],\n",
              "       [19, 20, 21, 22, 23, 24, 25, 26, 27],\n",
              "       [28, 29, 30, 31, 32, 33, 34, 35, 36],\n",
              "       [37, 38, 39, 40, 41, 42, 43, 44, 45]])"
            ]
          },
          "metadata": {},
          "execution_count": 20
        }
      ]
    },
    {
      "cell_type": "code",
      "source": [
        "Y[:2,:2]"
      ],
      "metadata": {
        "colab": {
          "base_uri": "https://localhost:8080/"
        },
        "id": "95SOvhNVO5d6",
        "outputId": "00325bb6-9359-4696-f8b5-eea0b93914dd"
      },
      "execution_count": null,
      "outputs": [
        {
          "output_type": "execute_result",
          "data": {
            "text/plain": [
              "array([[ 1,  2],\n",
              "       [10, 11]])"
            ]
          },
          "metadata": {},
          "execution_count": 21
        }
      ]
    },
    {
      "cell_type": "code",
      "source": [
        "Y[1,1]"
      ],
      "metadata": {
        "colab": {
          "base_uri": "https://localhost:8080/"
        },
        "id": "xZBBaqncO74s",
        "outputId": "311dfb69-6d9a-4049-b5f7-7ae26be5491e"
      },
      "execution_count": null,
      "outputs": [
        {
          "output_type": "execute_result",
          "data": {
            "text/plain": [
              "11"
            ]
          },
          "metadata": {},
          "execution_count": 22
        }
      ]
    },
    {
      "cell_type": "code",
      "source": [
        "Y[:,0]"
      ],
      "metadata": {
        "colab": {
          "base_uri": "https://localhost:8080/"
        },
        "id": "UzCGa9C1RscO",
        "outputId": "11791c7e-7da4-45a0-cd3d-1c59383c7415"
      },
      "execution_count": null,
      "outputs": [
        {
          "output_type": "execute_result",
          "data": {
            "text/plain": [
              "array([ 1, 10, 19, 28, 37])"
            ]
          },
          "metadata": {},
          "execution_count": 23
        }
      ]
    },
    {
      "cell_type": "code",
      "source": [
        "Y[:,0]=1"
      ],
      "metadata": {
        "id": "MS3AhmL0Rv_i"
      },
      "execution_count": null,
      "outputs": []
    },
    {
      "cell_type": "code",
      "source": [
        "Y"
      ],
      "metadata": {
        "colab": {
          "base_uri": "https://localhost:8080/"
        },
        "id": "oVUFpywYR1YG",
        "outputId": "07eccb1c-8382-4ce2-8e53-aaaa802b0189"
      },
      "execution_count": null,
      "outputs": [
        {
          "output_type": "execute_result",
          "data": {
            "text/plain": [
              "array([[ 1,  2,  3,  4,  5,  6,  7,  8,  9],\n",
              "       [ 1, 11, 12, 13, 14, 15, 16, 17, 18],\n",
              "       [ 1, 20, 21, 22, 23, 24, 25, 26, 27],\n",
              "       [ 1, 29, 30, 31, 32, 33, 34, 35, 36],\n",
              "       [ 1, 38, 39, 40, 41, 42, 43, 44, 45]])"
            ]
          },
          "metadata": {},
          "execution_count": 25
        }
      ]
    },
    {
      "cell_type": "code",
      "source": [
        "Y[0,:]=1"
      ],
      "metadata": {
        "id": "WGuNyqaPR2-N"
      },
      "execution_count": null,
      "outputs": []
    },
    {
      "cell_type": "code",
      "source": [
        "Y"
      ],
      "metadata": {
        "colab": {
          "base_uri": "https://localhost:8080/"
        },
        "id": "QjY6Z04jR52T",
        "outputId": "de1969aa-db4e-4bd5-f31a-64b87ebeed46"
      },
      "execution_count": null,
      "outputs": [
        {
          "output_type": "execute_result",
          "data": {
            "text/plain": [
              "array([[ 1,  1,  1,  1,  1,  1,  1,  1,  1],\n",
              "       [ 1, 11, 12, 13, 14, 15, 16, 17, 18],\n",
              "       [ 1, 20, 21, 22, 23, 24, 25, 26, 27],\n",
              "       [ 1, 29, 30, 31, 32, 33, 34, 35, 36],\n",
              "       [ 1, 38, 39, 40, 41, 42, 43, 44, 45]])"
            ]
          },
          "metadata": {},
          "execution_count": 28
        }
      ]
    },
    {
      "cell_type": "code",
      "source": [
        "Y[:,::2]=1"
      ],
      "metadata": {
        "id": "oe-HpT0sR_Kz"
      },
      "execution_count": null,
      "outputs": []
    },
    {
      "cell_type": "code",
      "source": [
        "Y"
      ],
      "metadata": {
        "colab": {
          "base_uri": "https://localhost:8080/"
        },
        "id": "z3QDvoocSFot",
        "outputId": "246af174-83bd-4f5e-91e9-0826beaf834c"
      },
      "execution_count": null,
      "outputs": [
        {
          "output_type": "execute_result",
          "data": {
            "text/plain": [
              "array([[ 1,  1,  1,  1,  1,  1,  1,  1,  1],\n",
              "       [ 1, 11,  1, 13,  1, 15,  1, 17,  1],\n",
              "       [ 1, 20,  1, 22,  1, 24,  1, 26,  1],\n",
              "       [ 1, 29,  1, 31,  1, 33,  1, 35,  1],\n",
              "       [ 1, 38,  1, 40,  1, 42,  1, 44,  1]])"
            ]
          },
          "metadata": {},
          "execution_count": 30
        }
      ]
    },
    {
      "cell_type": "code",
      "source": [
        "Y[:-2,:-2]=2"
      ],
      "metadata": {
        "id": "fWHiwbG1SGZx"
      },
      "execution_count": null,
      "outputs": []
    },
    {
      "cell_type": "code",
      "source": [
        "Y"
      ],
      "metadata": {
        "colab": {
          "base_uri": "https://localhost:8080/"
        },
        "id": "6bih8VcuSRgZ",
        "outputId": "26a3d610-844f-49c1-802e-458aa0e7f434"
      },
      "execution_count": null,
      "outputs": [
        {
          "output_type": "execute_result",
          "data": {
            "text/plain": [
              "array([[ 2,  2,  2,  2,  2,  2,  2,  1,  1],\n",
              "       [ 2,  2,  2,  2,  2,  2,  2, 17,  1],\n",
              "       [ 2,  2,  2,  2,  2,  2,  2, 26,  1],\n",
              "       [ 1, 29,  1, 31,  1, 33,  1, 35,  1],\n",
              "       [ 1, 38,  1, 40,  1, 42,  1, 44,  1]])"
            ]
          },
          "metadata": {},
          "execution_count": 32
        }
      ]
    },
    {
      "cell_type": "code",
      "source": [
        "Y[2:4,2:4]=3\n",
        "Y"
      ],
      "metadata": {
        "colab": {
          "base_uri": "https://localhost:8080/"
        },
        "id": "P6R8yiNASS41",
        "outputId": "e8c9d6be-1a8a-4926-9023-6676b049e8ca"
      },
      "execution_count": null,
      "outputs": [
        {
          "output_type": "execute_result",
          "data": {
            "text/plain": [
              "array([[ 2,  2,  2,  2,  2,  2,  2,  1,  1],\n",
              "       [ 2,  2,  2,  2,  2,  2,  2, 17,  1],\n",
              "       [ 2,  2,  3,  3,  2,  2,  2, 26,  1],\n",
              "       [ 1, 29,  3,  3,  1, 33,  1, 35,  1],\n",
              "       [ 1, 38,  1, 40,  1, 42,  1, 44,  1]])"
            ]
          },
          "metadata": {},
          "execution_count": 34
        }
      ]
    },
    {
      "cell_type": "code",
      "source": [
        "Y[::2,::2]=4\n",
        "Y"
      ],
      "metadata": {
        "colab": {
          "base_uri": "https://localhost:8080/"
        },
        "id": "_dXNg5neSaON",
        "outputId": "8fa8c902-80f6-44ec-d91a-12c8b67aa65f"
      },
      "execution_count": null,
      "outputs": [
        {
          "output_type": "execute_result",
          "data": {
            "text/plain": [
              "array([[ 4,  2,  4,  2,  4,  2,  4,  1,  4],\n",
              "       [ 2,  2,  2,  2,  2,  2,  2, 17,  1],\n",
              "       [ 4,  2,  4,  3,  4,  2,  4, 26,  4],\n",
              "       [ 1, 29,  3,  3,  1, 33,  1, 35,  1],\n",
              "       [ 4, 38,  4, 40,  4, 42,  4, 44,  4]])"
            ]
          },
          "metadata": {},
          "execution_count": 35
        }
      ]
    },
    {
      "cell_type": "code",
      "source": [
        "Y[3::2,3::2]=5\n",
        "Y"
      ],
      "metadata": {
        "colab": {
          "base_uri": "https://localhost:8080/"
        },
        "id": "761MDmefSqOV",
        "outputId": "dffad71f-dba5-4f92-ae58-add7968b3d7f"
      },
      "execution_count": null,
      "outputs": [
        {
          "output_type": "execute_result",
          "data": {
            "text/plain": [
              "array([[ 4,  2,  4,  2,  4,  2,  4,  1,  4],\n",
              "       [ 2,  2,  2,  2,  2,  2,  2, 17,  1],\n",
              "       [ 4,  2,  4,  3,  4,  2,  4, 26,  4],\n",
              "       [ 1, 29,  3,  5,  1,  5,  1,  5,  1],\n",
              "       [ 4, 38,  4, 40,  4, 42,  4, 44,  4]])"
            ]
          },
          "metadata": {},
          "execution_count": 36
        }
      ]
    },
    {
      "cell_type": "code",
      "source": [
        "A = Z.copy()\n",
        "A"
      ],
      "metadata": {
        "colab": {
          "base_uri": "https://localhost:8080/"
        },
        "id": "ifvIeYb3SwdP",
        "outputId": "f99b1374-2507-4452-bd7f-3430fb04ee2b"
      },
      "execution_count": null,
      "outputs": [
        {
          "output_type": "execute_result",
          "data": {
            "text/plain": [
              "array([[ 1,  2,  3,  4,  5,  6,  7,  8,  9],\n",
              "       [10, 11, 12, 13, 14, 15, 16, 17, 18],\n",
              "       [19, 20, 21, 22, 23, 24, 25, 26, 27],\n",
              "       [28, 29, 30, 31, 32, 33, 34, 35, 36],\n",
              "       [37, 38, 39, 40, 41, 42, 43, 44, 45]])"
            ]
          },
          "metadata": {},
          "execution_count": 37
        }
      ]
    },
    {
      "cell_type": "code",
      "source": [
        "A[::2,:]"
      ],
      "metadata": {
        "colab": {
          "base_uri": "https://localhost:8080/"
        },
        "id": "TqqblMrYTEKx",
        "outputId": "92d7a5b5-5fff-4f2c-b8da-5070043f63b9"
      },
      "execution_count": null,
      "outputs": [
        {
          "output_type": "execute_result",
          "data": {
            "text/plain": [
              "array([[ 1,  2,  3,  4,  5,  6,  7,  8,  9],\n",
              "       [19, 20, 21, 22, 23, 24, 25, 26, 27],\n",
              "       [37, 38, 39, 40, 41, 42, 43, 44, 45]])"
            ]
          },
          "metadata": {},
          "execution_count": 38
        }
      ]
    },
    {
      "cell_type": "code",
      "source": [
        "A[:-2,:-2]"
      ],
      "metadata": {
        "colab": {
          "base_uri": "https://localhost:8080/"
        },
        "id": "SjmGlz-KTJmw",
        "outputId": "2b03da64-0adb-4dba-bd7b-7ac0f71084b8"
      },
      "execution_count": null,
      "outputs": [
        {
          "output_type": "execute_result",
          "data": {
            "text/plain": [
              "array([[ 1,  2,  3,  4,  5,  6,  7],\n",
              "       [10, 11, 12, 13, 14, 15, 16],\n",
              "       [19, 20, 21, 22, 23, 24, 25]])"
            ]
          },
          "metadata": {},
          "execution_count": 39
        }
      ]
    },
    {
      "cell_type": "code",
      "source": [
        "A[:-2,-2:]"
      ],
      "metadata": {
        "colab": {
          "base_uri": "https://localhost:8080/"
        },
        "id": "UrW_2MwWTQQC",
        "outputId": "364a283c-bad9-4824-f336-10ba2ad63b9a"
      },
      "execution_count": null,
      "outputs": [
        {
          "output_type": "execute_result",
          "data": {
            "text/plain": [
              "array([[ 8,  9],\n",
              "       [17, 18],\n",
              "       [26, 27]])"
            ]
          },
          "metadata": {},
          "execution_count": 40
        }
      ]
    },
    {
      "cell_type": "code",
      "source": [
        "A[-2:,-2:]"
      ],
      "metadata": {
        "colab": {
          "base_uri": "https://localhost:8080/"
        },
        "id": "gmhFiGo_TWv5",
        "outputId": "8212df95-c7b5-45e7-d74c-6705ddae8da3"
      },
      "execution_count": null,
      "outputs": [
        {
          "output_type": "execute_result",
          "data": {
            "text/plain": [
              "array([[35, 36],\n",
              "       [44, 45]])"
            ]
          },
          "metadata": {},
          "execution_count": 41
        }
      ]
    },
    {
      "cell_type": "code",
      "source": [
        "A[-3:,-3:]"
      ],
      "metadata": {
        "colab": {
          "base_uri": "https://localhost:8080/"
        },
        "id": "pPRHBGZtTeAv",
        "outputId": "45385dc1-886a-43d0-d251-d9bb30c32fdf"
      },
      "execution_count": null,
      "outputs": [
        {
          "output_type": "execute_result",
          "data": {
            "text/plain": [
              "array([[25, 26, 27],\n",
              "       [34, 35, 36],\n",
              "       [43, 44, 45]])"
            ]
          },
          "metadata": {},
          "execution_count": 42
        }
      ]
    },
    {
      "cell_type": "code",
      "source": [
        "A[-5:,-5:]"
      ],
      "metadata": {
        "colab": {
          "base_uri": "https://localhost:8080/"
        },
        "id": "fL0krTcsTmcJ",
        "outputId": "47f8a3e3-c561-4916-88d9-27738faa48a9"
      },
      "execution_count": null,
      "outputs": [
        {
          "output_type": "execute_result",
          "data": {
            "text/plain": [
              "array([[ 5,  6,  7,  8,  9],\n",
              "       [14, 15, 16, 17, 18],\n",
              "       [23, 24, 25, 26, 27],\n",
              "       [32, 33, 34, 35, 36],\n",
              "       [41, 42, 43, 44, 45]])"
            ]
          },
          "metadata": {},
          "execution_count": 43
        }
      ]
    },
    {
      "cell_type": "code",
      "source": [
        "np_vector = np.arange(1,13,dtype = int)"
      ],
      "metadata": {
        "id": "Zv3KO77VTv3o"
      },
      "execution_count": null,
      "outputs": []
    },
    {
      "cell_type": "code",
      "source": [
        "np_vector"
      ],
      "metadata": {
        "colab": {
          "base_uri": "https://localhost:8080/"
        },
        "id": "xLupgmOuUDoQ",
        "outputId": "6df4817e-7feb-4926-a4c2-de87d013b7b7"
      },
      "execution_count": null,
      "outputs": [
        {
          "output_type": "execute_result",
          "data": {
            "text/plain": [
              "array([ 1,  2,  3,  4,  5,  6,  7,  8,  9, 10, 11, 12])"
            ]
          },
          "metadata": {},
          "execution_count": 45
        }
      ]
    },
    {
      "cell_type": "code",
      "source": [
        "np_vector<9\n"
      ],
      "metadata": {
        "colab": {
          "base_uri": "https://localhost:8080/"
        },
        "id": "VH7X3937UF7l",
        "outputId": "b5467f84-f292-4541-811f-879d81337e8d"
      },
      "execution_count": null,
      "outputs": [
        {
          "output_type": "execute_result",
          "data": {
            "text/plain": [
              "array([ True,  True,  True,  True,  True,  True,  True,  True, False,\n",
              "       False, False, False])"
            ]
          },
          "metadata": {},
          "execution_count": 46
        }
      ]
    },
    {
      "cell_type": "code",
      "source": [
        "np_vector"
      ],
      "metadata": {
        "colab": {
          "base_uri": "https://localhost:8080/"
        },
        "id": "eKLy-aZtULr2",
        "outputId": "18e3719b-bbc0-4b1a-969d-e55c8f483a51"
      },
      "execution_count": null,
      "outputs": [
        {
          "output_type": "execute_result",
          "data": {
            "text/plain": [
              "array([ 1,  2,  3,  4,  5,  6,  7,  8,  9, 10, 11, 12])"
            ]
          },
          "metadata": {},
          "execution_count": 47
        }
      ]
    },
    {
      "cell_type": "code",
      "source": [
        "np_matrix = np.array([[1, 2, 3, 4],\n",
        "                      [5, 6, 7, 8],\n",
        "                      [9, 10, 11, 12]], dtype = np.int)\n",
        "np_matrix"
      ],
      "metadata": {
        "colab": {
          "base_uri": "https://localhost:8080/"
        },
        "id": "ovONBhYZUSCD",
        "outputId": "023ae6fd-2481-4f01-f641-d06931bc217a"
      },
      "execution_count": null,
      "outputs": [
        {
          "output_type": "stream",
          "name": "stderr",
          "text": [
            "<ipython-input-48-d556d9fb3368>:3: DeprecationWarning: `np.int` is a deprecated alias for the builtin `int`. To silence this warning, use `int` by itself. Doing this will not modify any behavior and is safe. When replacing `np.int`, you may wish to use e.g. `np.int64` or `np.int32` to specify the precision. If you wish to review your current use, check the release note link for additional information.\n",
            "Deprecated in NumPy 1.20; for more details and guidance: https://numpy.org/devdocs/release/1.20.0-notes.html#deprecations\n",
            "  [9, 10, 11, 12]], dtype = np.int)\n"
          ]
        },
        {
          "output_type": "execute_result",
          "data": {
            "text/plain": [
              "array([[ 1,  2,  3,  4],\n",
              "       [ 5,  6,  7,  8],\n",
              "       [ 9, 10, 11, 12]])"
            ]
          },
          "metadata": {},
          "execution_count": 48
        }
      ]
    },
    {
      "cell_type": "code",
      "source": [
        "np_matrix[[1, 2, 1], \n",
        "          [0, 2, 3]]"
      ],
      "metadata": {
        "colab": {
          "base_uri": "https://localhost:8080/"
        },
        "id": "Q71ERo9sYeA0",
        "outputId": "4e1acf31-e01a-4a4e-cb82-d92fd1c5e636"
      },
      "execution_count": null,
      "outputs": [
        {
          "output_type": "execute_result",
          "data": {
            "text/plain": [
              "array([ 5, 11,  8])"
            ]
          },
          "metadata": {},
          "execution_count": 49
        }
      ]
    },
    {
      "cell_type": "code",
      "source": [
        "print(np_vector.sum())\n",
        "print(np.sum(np_vector))"
      ],
      "metadata": {
        "colab": {
          "base_uri": "https://localhost:8080/"
        },
        "id": "S4oNq82vYphU",
        "outputId": "1deecedf-5d3c-4738-9af4-6aef2424b4e8"
      },
      "execution_count": null,
      "outputs": [
        {
          "output_type": "stream",
          "name": "stdout",
          "text": [
            "78\n",
            "78\n"
          ]
        }
      ]
    },
    {
      "cell_type": "code",
      "source": [
        "np_vector_1 = np.arange(1,13,dtype = int)\n",
        "np_vector_2 = np.arange(13,25,dtype = int)\n"
      ],
      "metadata": {
        "id": "L6gd6bniZlPX"
      },
      "execution_count": null,
      "outputs": []
    },
    {
      "cell_type": "code",
      "source": [
        "np_vector_1 + np_vector_2\n",
        "# 각 배열의 같은자리의 숫자끼리의 합"
      ],
      "metadata": {
        "colab": {
          "base_uri": "https://localhost:8080/"
        },
        "id": "V-sXALmjaytQ",
        "outputId": "ee539682-7739-4b88-ff88-474fc25522ac"
      },
      "execution_count": null,
      "outputs": [
        {
          "output_type": "execute_result",
          "data": {
            "text/plain": [
              "array([14, 16, 18, 20, 22, 24, 26, 28, 30, 32, 34, 36])"
            ]
          },
          "metadata": {},
          "execution_count": 52
        }
      ]
    },
    {
      "cell_type": "code",
      "source": [
        "sum(np_vector_1*np_vector_2) \n",
        "# 배열 내의 총 합을 구하는 것 "
      ],
      "metadata": {
        "colab": {
          "base_uri": "https://localhost:8080/"
        },
        "id": "fKOhdg_3a5sq",
        "outputId": "26f979ac-43d1-42d1-9a55-9b0488c196e1"
      },
      "execution_count": null,
      "outputs": [
        {
          "output_type": "execute_result",
          "data": {
            "text/plain": [
              "1586"
            ]
          },
          "metadata": {},
          "execution_count": 53
        }
      ]
    },
    {
      "cell_type": "code",
      "source": [
        "np.concatenate((np_vector_1,np_vector_2))\n",
        "# 배열을 붙여넣어주는 것"
      ],
      "metadata": {
        "colab": {
          "base_uri": "https://localhost:8080/"
        },
        "id": "-EdEUyO5bMVQ",
        "outputId": "3530d364-9128-48e2-c59a-57d523434806"
      },
      "execution_count": null,
      "outputs": [
        {
          "output_type": "execute_result",
          "data": {
            "text/plain": [
              "array([ 1,  2,  3,  4,  5,  6,  7,  8,  9, 10, 11, 12, 13, 14, 15, 16, 17,\n",
              "       18, 19, 20, 21, 22, 23, 24])"
            ]
          },
          "metadata": {},
          "execution_count": 55
        }
      ]
    },
    {
      "cell_type": "code",
      "source": [
        "np_matrix_1 = np.array([[1, 2, 3, 4],\n",
        "                      [5, 6, 7, 8],\n",
        "                      [9, 10, 11, 12]], dtype = int)\n",
        "np_matrix_2 = np.arange(13,25,dtype= int).reshape(3,4)\n",
        "# 3x4행렬로 reshape 해준 것"
      ],
      "metadata": {
        "id": "c_Gcs-QTcl7L"
      },
      "execution_count": null,
      "outputs": []
    },
    {
      "cell_type": "code",
      "source": [
        "np_matrix_1 * np_matrix_2\n",
        "# 행렬에 각 자리수끼리의 곱을 나타냄. 기존의 행렬의 계산과 좀 다른 것 같은데 "
      ],
      "metadata": {
        "colab": {
          "base_uri": "https://localhost:8080/"
        },
        "id": "Rc9XR2EkdASU",
        "outputId": "7300ca7b-59f0-431d-8655-3da275a3b37a"
      },
      "execution_count": null,
      "outputs": [
        {
          "output_type": "execute_result",
          "data": {
            "text/plain": [
              "array([[ 13,  28,  45,  64],\n",
              "       [ 85, 108, 133, 160],\n",
              "       [189, 220, 253, 288]])"
            ]
          },
          "metadata": {},
          "execution_count": 57
        }
      ]
    },
    {
      "cell_type": "code",
      "source": [
        "np_matrix_2.T\n",
        "# transpose가 뭔지에 대해서 다시 한번 공부해보기\n",
        "#dot에 대해서도 다시한번"
      ],
      "metadata": {
        "colab": {
          "base_uri": "https://localhost:8080/"
        },
        "id": "4sr_ANwxdgmJ",
        "outputId": "9302d580-e637-4998-aaee-c02c3d14e63b"
      },
      "execution_count": null,
      "outputs": [
        {
          "output_type": "execute_result",
          "data": {
            "text/plain": [
              "array([[13, 17, 21],\n",
              "       [14, 18, 22],\n",
              "       [15, 19, 23],\n",
              "       [16, 20, 24]])"
            ]
          },
          "metadata": {},
          "execution_count": 58
        }
      ]
    },
    {
      "cell_type": "code",
      "source": [
        "np_scalar_1 = int(3)\n",
        "np_vector_3 = np.array([1,2,3,4],dtype =int)\n",
        "np_vector_4 = np.array([1,2,3], dtype=int)\n",
        "\n",
        "print(f'np_matrix_1: \\n {np_matrix_1}\\n')\n",
        "print(f'np_scalar_1: \\n {np_scalar_1}\\n')\n",
        "print(f'np_vector_3: \\n {np_vector_3}\\n')\n",
        "print(f'np_vector_4: \\n {np_vector_4}\\n')"
      ],
      "metadata": {
        "colab": {
          "base_uri": "https://localhost:8080/"
        },
        "id": "Xe1aIGxQeQme",
        "outputId": "9878967f-7a1f-4d13-f5f6-695a01960bce"
      },
      "execution_count": null,
      "outputs": [
        {
          "output_type": "stream",
          "name": "stdout",
          "text": [
            "np_matrix_1: \n",
            " [[ 1  2  3  4]\n",
            " [ 5  6  7  8]\n",
            " [ 9 10 11 12]]\n",
            "\n",
            "np_scalar_1: \n",
            " 3\n",
            "\n",
            "np_vector_3: \n",
            " [1 2 3 4]\n",
            "\n",
            "np_vector_4: \n",
            " [1 2 3]\n",
            "\n"
          ]
        }
      ]
    },
    {
      "cell_type": "code",
      "source": [
        "np_matrix_1 + np_scalar_1\n"
      ],
      "metadata": {
        "colab": {
          "base_uri": "https://localhost:8080/"
        },
        "id": "5deMepP8fo4L",
        "outputId": "e32e7177-882c-48ea-f00e-635b91116e8e"
      },
      "execution_count": null,
      "outputs": [
        {
          "output_type": "execute_result",
          "data": {
            "text/plain": [
              "array([[ 4,  5,  6,  7],\n",
              "       [ 8,  9, 10, 11],\n",
              "       [12, 13, 14, 15]])"
            ]
          },
          "metadata": {},
          "execution_count": 62
        }
      ]
    },
    {
      "cell_type": "code",
      "source": [
        "np_matrix_1 + np_vector_4.reshape(3, 1)"
      ],
      "metadata": {
        "colab": {
          "base_uri": "https://localhost:8080/"
        },
        "id": "Y1K_8qzugZg7",
        "outputId": "caf22f88-19f7-4d2f-9977-a4b3c2eaae8c"
      },
      "execution_count": null,
      "outputs": [
        {
          "output_type": "execute_result",
          "data": {
            "text/plain": [
              "array([[ 2,  3,  4,  5],\n",
              "       [ 7,  8,  9, 10],\n",
              "       [12, 13, 14, 15]])"
            ]
          },
          "metadata": {},
          "execution_count": 64
        }
      ]
    },
    {
      "cell_type": "code",
      "source": [
        "np.where(np_vector_3 > 2)\n",
        "# 조건이 있는 자리가 어디에 있는지 물어보는 것."
      ],
      "metadata": {
        "colab": {
          "base_uri": "https://localhost:8080/"
        },
        "id": "wUwdug65jDTm",
        "outputId": "ce8d7534-9c9c-4953-b724-68a31f65f304"
      },
      "execution_count": null,
      "outputs": [
        {
          "output_type": "execute_result",
          "data": {
            "text/plain": [
              "(array([2, 3]),)"
            ]
          },
          "metadata": {},
          "execution_count": 65
        }
      ]
    },
    {
      "cell_type": "code",
      "source": [
        "np.argmax(np_vector_3)\n",
        "# np_vector_3의 가장 큰 수가 있는 index를 보여 줌."
      ],
      "metadata": {
        "colab": {
          "base_uri": "https://localhost:8080/"
        },
        "id": "WwGQ_nNAjYoK",
        "outputId": "6200326a-9e52-44f5-9b72-5e5312d6ca70"
      },
      "execution_count": null,
      "outputs": [
        {
          "output_type": "execute_result",
          "data": {
            "text/plain": [
              "3"
            ]
          },
          "metadata": {},
          "execution_count": 66
        }
      ]
    },
    {
      "cell_type": "code",
      "source": [
        "np.argmax(np_matrix_1, axis=0)"
      ],
      "metadata": {
        "colab": {
          "base_uri": "https://localhost:8080/"
        },
        "id": "74b02M0-kQ2l",
        "outputId": "9b393274-68b0-4dc8-ea43-23b201998042"
      },
      "execution_count": null,
      "outputs": [
        {
          "output_type": "execute_result",
          "data": {
            "text/plain": [
              "array([2, 2, 2, 2])"
            ]
          },
          "metadata": {},
          "execution_count": 67
        }
      ]
    },
    {
      "cell_type": "code",
      "source": [
        "np.nan\n"
      ],
      "metadata": {
        "colab": {
          "base_uri": "https://localhost:8080/"
        },
        "id": "0yJwck9ylim5",
        "outputId": "4516274b-fd4a-46ca-d05e-8432fcaa0e03"
      },
      "execution_count": null,
      "outputs": [
        {
          "output_type": "execute_result",
          "data": {
            "text/plain": [
              "nan"
            ]
          },
          "metadata": {},
          "execution_count": 68
        }
      ]
    },
    {
      "cell_type": "code",
      "source": [
        "np.inf"
      ],
      "metadata": {
        "colab": {
          "base_uri": "https://localhost:8080/"
        },
        "id": "R6GLtAN1mAkg",
        "outputId": "e0835609-3520-4fa3-b6d1-720fd0bb545d"
      },
      "execution_count": null,
      "outputs": [
        {
          "output_type": "execute_result",
          "data": {
            "text/plain": [
              "inf"
            ]
          },
          "metadata": {},
          "execution_count": 69
        }
      ]
    },
    {
      "cell_type": "code",
      "source": [
        "a= pd.Series([1,2,3,4], index = ['a','b','c','d'])\n",
        "a\n"
      ],
      "metadata": {
        "colab": {
          "base_uri": "https://localhost:8080/"
        },
        "id": "6SPiQ4WMmCb9",
        "outputId": "4b0d3363-e1e2-41b3-d168-5ba5c8936158"
      },
      "execution_count": null,
      "outputs": [
        {
          "output_type": "execute_result",
          "data": {
            "text/plain": [
              "a    1\n",
              "b    2\n",
              "c    3\n",
              "d    4\n",
              "dtype: int64"
            ]
          },
          "metadata": {},
          "execution_count": 72
        }
      ]
    },
    {
      "cell_type": "code",
      "source": [
        "sr1 = pd.Series(np.arange(1,13, dtype = int))\n",
        "sr1\n",
        "# 인덱스를 정해주지 않으면 정수로 0부터 작성해줌 "
      ],
      "metadata": {
        "colab": {
          "base_uri": "https://localhost:8080/"
        },
        "id": "yOPNa7GU1brG",
        "outputId": "85f89351-fd36-4e37-c3be-52c491ef6bac"
      },
      "execution_count": null,
      "outputs": [
        {
          "output_type": "execute_result",
          "data": {
            "text/plain": [
              "0      1\n",
              "1      2\n",
              "2      3\n",
              "3      4\n",
              "4      5\n",
              "5      6\n",
              "6      7\n",
              "7      8\n",
              "8      9\n",
              "9     10\n",
              "10    11\n",
              "11    12\n",
              "dtype: int64"
            ]
          },
          "metadata": {},
          "execution_count": 73
        }
      ]
    },
    {
      "cell_type": "code",
      "source": [
        "sr1 = pd.Series([1, 2, 3, 4], index = ['a', 'b', 'c', 'd'])\n",
        "sr2 = pd.Series([5, 6, 7, 8, 9], index = ['a', 'b', 'c', 'd', 'e'])"
      ],
      "metadata": {
        "id": "XZE3wRjJ3Wks"
      },
      "execution_count": null,
      "outputs": []
    },
    {
      "cell_type": "code",
      "source": [
        "sr1 + sr2\n",
        "# NaN값을 처리하기 쉬운 형태로 반환해준 것."
      ],
      "metadata": {
        "colab": {
          "base_uri": "https://localhost:8080/"
        },
        "id": "yE1dVosk71HP",
        "outputId": "39bf70bb-dd94-4b7e-909c-b243a00b0724"
      },
      "execution_count": null,
      "outputs": [
        {
          "output_type": "execute_result",
          "data": {
            "text/plain": [
              "a     6.0\n",
              "b     8.0\n",
              "c    10.0\n",
              "d    12.0\n",
              "e     NaN\n",
              "dtype: float64"
            ]
          },
          "metadata": {},
          "execution_count": 77
        }
      ]
    },
    {
      "cell_type": "code",
      "source": [],
      "metadata": {
        "id": "WZQ3l4-W77V5"
      },
      "execution_count": null,
      "outputs": []
    }
  ]
}