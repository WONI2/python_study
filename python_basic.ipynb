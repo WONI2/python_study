{
  "nbformat": 4,
  "nbformat_minor": 0,
  "metadata": {
    "colab": {
      "provenance": [],
      "authorship_tag": "ABX9TyO0lnsiC8PBfKIxEJv3mrmi",
      "include_colab_link": true
    },
    "kernelspec": {
      "name": "python3",
      "display_name": "Python 3"
    },
    "language_info": {
      "name": "python"
    }
  },
  "cells": [
    {
      "cell_type": "markdown",
      "metadata": {
        "id": "view-in-github",
        "colab_type": "text"
      },
      "source": [
        "<a href=\"https://colab.research.google.com/github/WONI2/python_study/blob/PYTHON_BASIC/python_basic.ipynb\" target=\"_parent\"><img src=\"https://colab.research.google.com/assets/colab-badge.svg\" alt=\"Open In Colab\"/></a>"
      ]
    },
    {
      "cell_type": "code",
      "execution_count": null,
      "metadata": {
        "colab": {
          "base_uri": "https://localhost:8080/"
        },
        "id": "TeLD2XmdXTCb",
        "outputId": "a084e005-2573-467a-9d79-b843110f860a"
      },
      "outputs": [
        {
          "output_type": "stream",
          "name": "stdout",
          "text": [
            "Hello World\n"
          ]
        }
      ],
      "source": [
        "print(\"Hello World\")"
      ]
    },
    {
      "cell_type": "code",
      "source": [
        "#int\n",
        "a=1\n",
        "a"
      ],
      "metadata": {
        "colab": {
          "base_uri": "https://localhost:8080/"
        },
        "id": "5yiLcvmgXhks",
        "outputId": "d15ef88a-a06f-4b43-a5f9-9c1cafa9a246"
      },
      "execution_count": null,
      "outputs": [
        {
          "output_type": "execute_result",
          "data": {
            "text/plain": [
              "1"
            ]
          },
          "metadata": {},
          "execution_count": 5
        }
      ]
    },
    {
      "cell_type": "code",
      "source": [
        "type(a)"
      ],
      "metadata": {
        "colab": {
          "base_uri": "https://localhost:8080/"
        },
        "id": "j9ni2IAnpI8a",
        "outputId": "0d31e9b9-b29f-43fd-e69a-1644143cc3f4"
      },
      "execution_count": null,
      "outputs": [
        {
          "output_type": "execute_result",
          "data": {
            "text/plain": [
              "int"
            ]
          },
          "metadata": {},
          "execution_count": 6
        }
      ]
    },
    {
      "cell_type": "code",
      "source": [
        "z = type(a)\n",
        "z"
      ],
      "metadata": {
        "colab": {
          "base_uri": "https://localhost:8080/"
        },
        "id": "p7W3eBOZpORm",
        "outputId": "8f7216c4-cdcc-48ae-a1a9-bda6815463ac"
      },
      "execution_count": null,
      "outputs": [
        {
          "output_type": "execute_result",
          "data": {
            "text/plain": [
              "int"
            ]
          },
          "metadata": {},
          "execution_count": 8
        }
      ]
    },
    {
      "cell_type": "code",
      "source": [
        "print (type(a))"
      ],
      "metadata": {
        "colab": {
          "base_uri": "https://localhost:8080/"
        },
        "id": "sQflsqRApSxR",
        "outputId": "d61f7673-09d0-4cc4-cc9c-e2410d0c3cda"
      },
      "execution_count": null,
      "outputs": [
        {
          "output_type": "stream",
          "name": "stdout",
          "text": [
            "<class 'int'>\n"
          ]
        }
      ]
    },
    {
      "cell_type": "code",
      "source": [
        "#float :정수인데 실수로 나타내고 싶으면 뒤에 점을 찍으면 됨.\n",
        "#complex\n",
        "c = 1+2j\n",
        "print(c)\n",
        "c += j"
      ],
      "metadata": {
        "colab": {
          "base_uri": "https://localhost:8080/",
          "height": 227
        },
        "id": "KbK-8jlJpiYA",
        "outputId": "57a1d6b3-887c-4b9b-c0ee-f77da6f982f4"
      },
      "execution_count": null,
      "outputs": [
        {
          "output_type": "stream",
          "name": "stdout",
          "text": [
            "(1+2j)\n"
          ]
        },
        {
          "output_type": "error",
          "ename": "NameError",
          "evalue": "ignored",
          "traceback": [
            "\u001b[0;31m---------------------------------------------------------------------------\u001b[0m",
            "\u001b[0;31mNameError\u001b[0m                                 Traceback (most recent call last)",
            "\u001b[0;32m<ipython-input-11-f67d74ebb543>\u001b[0m in \u001b[0;36m<cell line: 5>\u001b[0;34m()\u001b[0m\n\u001b[1;32m      3\u001b[0m \u001b[0mc\u001b[0m \u001b[0;34m=\u001b[0m \u001b[0;36m1\u001b[0m\u001b[0;34m+\u001b[0m\u001b[0;36m2j\u001b[0m\u001b[0;34m\u001b[0m\u001b[0;34m\u001b[0m\u001b[0m\n\u001b[1;32m      4\u001b[0m \u001b[0mprint\u001b[0m\u001b[0;34m(\u001b[0m\u001b[0mc\u001b[0m\u001b[0;34m)\u001b[0m\u001b[0;34m\u001b[0m\u001b[0;34m\u001b[0m\u001b[0m\n\u001b[0;32m----> 5\u001b[0;31m \u001b[0mc\u001b[0m \u001b[0;34m+=\u001b[0m \u001b[0mj\u001b[0m\u001b[0;34m\u001b[0m\u001b[0;34m\u001b[0m\u001b[0m\n\u001b[0m",
            "\u001b[0;31mNameError\u001b[0m: name 'j' is not defined"
          ]
        }
      ]
    },
    {
      "cell_type": "code",
      "source": [
        "#str\n",
        "d = 'abc'\n",
        "print(d)\n",
        "\n",
        "e = 'ABC'\n",
        "\n",
        "print(d + e)\n",
        "\n",
        "print(d* 3 +e)\n",
        "#try 'abc' -> 'aBc'"
      ],
      "metadata": {
        "colab": {
          "base_uri": "https://localhost:8080/"
        },
        "id": "jbfHg6MtqUU7",
        "outputId": "33ce65cb-3e82-47c1-e98e-effdcacf5a1c"
      },
      "execution_count": null,
      "outputs": [
        {
          "output_type": "stream",
          "name": "stdout",
          "text": [
            "abc\n",
            "abcABC\n",
            "abcabcabcABC\n"
          ]
        }
      ]
    },
    {
      "cell_type": "code",
      "source": [
        "try:\n",
        "  d[1] = 'B' #변경\n",
        "except TypeError:\n",
        "  print('str is immutable') \n",
        "  # try, except는 의도적인 오류를 낼 때 사용. \n",
        "\n",
        "#alternative\n",
        "d_new = d[0] + 'B' + d[2]\n",
        "print(d_new)"
      ],
      "metadata": {
        "colab": {
          "base_uri": "https://localhost:8080/"
        },
        "id": "Y4bVkkEXrMcF",
        "outputId": "b60a7516-a49b-4aaf-92eb-58c2c2770a93"
      },
      "execution_count": null,
      "outputs": [
        {
          "output_type": "stream",
          "name": "stdout",
          "text": [
            "str is immutable\n",
            "aBc\n"
          ]
        }
      ]
    },
    {
      "cell_type": "code",
      "source": [
        "# 빈 객체 생성\n",
        "list_1= []\n",
        "\n",
        "#정수형 객체 생성\n",
        "list_2=[2019,2020,2021]\n",
        "\n",
        "#문자형 갹채 생성\n",
        "list_3 = [\"인공지능\", \"AI\"]\n",
        "\n",
        "# 문자&숫자 객체 생성\n",
        "list_4 = [\"R과\", \"파이썬으로\", \"배우는\", 'Data', 'Science', 2020]\n",
        "\n",
        "# 문자, 숫자, 리스트 객체 생성\n",
        "list_5 = [\"R과\", \"파이썬으로\", \"배우는\", 'Data', 'Science', '2020',[\"인공지능\",'AI']]\n",
        "\n",
        "# 문자, 숫자, 리스트 오브젝트 객체 생성\n",
        "list_6 =[\"R과\", \"파이썬으로\", \"배우는\", 'Data', 'Science', '2020', list_3]\n",
        "\n",
        "\n",
        "print('list_1 = ', list_1)\n",
        "print('list_2 = ', list_2)\n",
        "print('list_3 = ', list_3)\n",
        "print('list_4 = ', list_4)\n",
        "\n",
        "# 5와 6은 같은 것. 실행이 느려지는 문제가 있음. \n",
        "print('list_5 = ', list_5)\n",
        "print('list_6 = ', list_6, '\\n')\n",
        "\n",
        "# f를 사용해서 변수를 넣을 때 {}만을 사용해서 쓸 수 있음.\n",
        "print(f'list_6 = {list_6}')\n",
        "\n"
      ],
      "metadata": {
        "colab": {
          "base_uri": "https://localhost:8080/"
        },
        "id": "tEGpN4zEr4w6",
        "outputId": "da221fd0-ba87-4bbc-c367-3ed867612994"
      },
      "execution_count": null,
      "outputs": [
        {
          "output_type": "stream",
          "name": "stdout",
          "text": [
            "list_1 =  []\n",
            "list_2 =  [2019, 2020, 2021]\n",
            "list_3 =  ['인공지능', 'AI']\n",
            "list_4 =  ['R과', '파이썬으로', '배우는', 'Data', 'Science', 2020]\n",
            "list_5 =  ['R과', '파이썬으로', '배우는', 'Data', 'Science', '2020', ['인공지능', 'AI']]\n",
            "list_6 =  ['R과', '파이썬으로', '배우는', 'Data', 'Science', '2020', ['인공지능', 'AI']] \n",
            "\n",
            "list_6 = ['R과', '파이썬으로', '배우는', 'Data', 'Science', '2020', ['인공지능', 'AI']]\n"
          ]
        }
      ]
    },
    {
      "cell_type": "code",
      "source": [],
      "metadata": {
        "id": "vsjcZPgO3nVs"
      },
      "execution_count": null,
      "outputs": []
    }
  ]
}